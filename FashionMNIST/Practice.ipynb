{
 "cells": [
  {
   "cell_type": "code",
   "execution_count": 4,
   "id": "0b23c8c6",
   "metadata": {},
   "outputs": [],
   "source": [
    "import pandas as pd\n",
    "import numpy as np\n",
    "from sklearn.model_selection import train_test_split\n",
    "from tensorflow import keras\n",
    "from keras.models import Sequential\n",
    "from keras.layers import Conv2D, MaxPooling2D, Dense, Flatten\n",
    "from tensorflow.keras.optimizers import Adam\n",
    "from keras.callbacks import TensorBoard"
   ]
  },
  {
   "cell_type": "code",
   "execution_count": 5,
   "id": "f810722d",
   "metadata": {},
   "outputs": [],
   "source": [
    "train = pd.read_csv('train.csv')\n",
    "test = pd.read_csv('test.csv')"
   ]
  },
  {
   "cell_type": "code",
   "execution_count": 6,
   "id": "83d78725",
   "metadata": {},
   "outputs": [],
   "source": [
    "train_data = np.array(train.iloc[:, 1:], dtype = 'float32')\n",
    "test_data = np.array(test.iloc[:, 1:], dtype = 'float32')"
   ]
  },
  {
   "cell_type": "code",
   "execution_count": 7,
   "id": "d900c167",
   "metadata": {},
   "outputs": [],
   "source": [
    "X_train = train_data[:, 1:] / 255\n",
    "y_train = train_data[:, 0]\n",
    "X_test = test_data / 255"
   ]
  },
  {
   "cell_type": "code",
   "execution_count": 8,
   "id": "d481df5a",
   "metadata": {},
   "outputs": [
    {
     "data": {
      "text/plain": [
       "((48000, 784), (12000, 784))"
      ]
     },
     "execution_count": 8,
     "metadata": {},
     "output_type": "execute_result"
    }
   ],
   "source": [
    "X_tr, X_val, y_tr, y_val = train_test_split(X_train, y_train, test_size = 0.2, random_state = 42, stratify = y_train)\n",
    "\n",
    "X_tr.shape, X_val.shape"
   ]
  },
  {
   "cell_type": "code",
   "execution_count": 9,
   "id": "49b5f9c6",
   "metadata": {},
   "outputs": [],
   "source": [
    "X_tr = X_tr.reshape(X_tr.shape[0], 28, 28, 1)\n",
    "X_test = X_test.reshape(X_test.shape[0], 28, 28, 1)\n",
    "X_val = X_val.reshape(X_val.shape[0], 28, 28, 1)"
   ]
  },
  {
   "cell_type": "code",
   "execution_count": 10,
   "id": "ee40f845",
   "metadata": {},
   "outputs": [],
   "source": [
    "model = Sequential([\n",
    "    Conv2D(filters = 32, kernel_size = 3, activation = 'relu', input_shape = (28, 28, 1)),\n",
    "    MaxPooling2D(pool_size = 2),\n",
    "    Flatten(),\n",
    "    Dense(32, activation = 'relu'),\n",
    "    Dense(10, activation = 'softmax')\n",
    "])"
   ]
  },
  {
   "cell_type": "code",
   "execution_count": 11,
   "id": "c5023ffd",
   "metadata": {},
   "outputs": [
    {
     "name": "stderr",
     "output_type": "stream",
     "text": [
      "C:\\Users\\seho\\anaconda3\\lib\\site-packages\\keras\\optimizer_v2\\optimizer_v2.py:355: UserWarning: The `lr` argument is deprecated, use `learning_rate` instead.\n",
      "  warnings.warn(\n"
     ]
    }
   ],
   "source": [
    "model.compile(loss = 'sparse_categorical_crossentropy', optimizer = Adam(lr = 0.001), metrics = ['accuracy'])"
   ]
  },
  {
   "cell_type": "code",
   "execution_count": 13,
   "id": "e918e101",
   "metadata": {},
   "outputs": [
    {
     "name": "stdout",
     "output_type": "stream",
     "text": [
      "Epoch 1/20\n",
      "375/375 [==============================] - 10s 26ms/step - loss: 0.5683 - accuracy: 0.8024 - val_loss: 0.3868 - val_accuracy: 0.8654\n",
      "Epoch 2/20\n",
      "375/375 [==============================] - 10s 26ms/step - loss: 0.3726 - accuracy: 0.8703 - val_loss: 0.3469 - val_accuracy: 0.8785\n",
      "Epoch 3/20\n",
      "375/375 [==============================] - 10s 26ms/step - loss: 0.3233 - accuracy: 0.8854 - val_loss: 0.3220 - val_accuracy: 0.8878\n",
      "Epoch 4/20\n",
      "375/375 [==============================] - 10s 25ms/step - loss: 0.2992 - accuracy: 0.8946 - val_loss: 0.2982 - val_accuracy: 0.8961\n",
      "Epoch 5/20\n",
      "375/375 [==============================] - 10s 26ms/step - loss: 0.2759 - accuracy: 0.9020 - val_loss: 0.2898 - val_accuracy: 0.8971\n",
      "Epoch 6/20\n",
      "375/375 [==============================] - 10s 26ms/step - loss: 0.2570 - accuracy: 0.9080 - val_loss: 0.2822 - val_accuracy: 0.8996\n",
      "Epoch 7/20\n",
      "375/375 [==============================] - 10s 26ms/step - loss: 0.2438 - accuracy: 0.9133 - val_loss: 0.2903 - val_accuracy: 0.8954\n",
      "Epoch 8/20\n",
      "375/375 [==============================] - 10s 26ms/step - loss: 0.2332 - accuracy: 0.9166 - val_loss: 0.2818 - val_accuracy: 0.8995\n",
      "Epoch 9/20\n",
      "375/375 [==============================] - 10s 26ms/step - loss: 0.2217 - accuracy: 0.9210 - val_loss: 0.2814 - val_accuracy: 0.8997\n",
      "Epoch 10/20\n",
      "375/375 [==============================] - 10s 25ms/step - loss: 0.2104 - accuracy: 0.9243 - val_loss: 0.2777 - val_accuracy: 0.9013\n",
      "Epoch 11/20\n",
      "375/375 [==============================] - 10s 25ms/step - loss: 0.1990 - accuracy: 0.9288 - val_loss: 0.2753 - val_accuracy: 0.9022\n",
      "Epoch 12/20\n",
      "375/375 [==============================] - 10s 26ms/step - loss: 0.1911 - accuracy: 0.9309 - val_loss: 0.2712 - val_accuracy: 0.9045\n",
      "Epoch 13/20\n",
      "375/375 [==============================] - 10s 26ms/step - loss: 0.1816 - accuracy: 0.9350 - val_loss: 0.2647 - val_accuracy: 0.9061\n",
      "Epoch 14/20\n",
      "375/375 [==============================] - 10s 27ms/step - loss: 0.1736 - accuracy: 0.9385 - val_loss: 0.2751 - val_accuracy: 0.9037\n",
      "Epoch 15/20\n",
      "375/375 [==============================] - 10s 26ms/step - loss: 0.1632 - accuracy: 0.9417 - val_loss: 0.2640 - val_accuracy: 0.9090\n",
      "Epoch 16/20\n",
      "375/375 [==============================] - 10s 26ms/step - loss: 0.1570 - accuracy: 0.9441 - val_loss: 0.2775 - val_accuracy: 0.9054\n",
      "Epoch 17/20\n",
      "375/375 [==============================] - 10s 27ms/step - loss: 0.1491 - accuracy: 0.9471 - val_loss: 0.2679 - val_accuracy: 0.9107\n",
      "Epoch 18/20\n",
      "375/375 [==============================] - 10s 27ms/step - loss: 0.1405 - accuracy: 0.9501 - val_loss: 0.2818 - val_accuracy: 0.9066\n",
      "Epoch 19/20\n",
      "375/375 [==============================] - 10s 27ms/step - loss: 0.1367 - accuracy: 0.9519 - val_loss: 0.2938 - val_accuracy: 0.9050\n",
      "Epoch 20/20\n",
      "375/375 [==============================] - 10s 28ms/step - loss: 0.1253 - accuracy: 0.9558 - val_loss: 0.2730 - val_accuracy: 0.9102\n"
     ]
    }
   ],
   "source": [
    "history = model.fit(X_tr, y_tr, batch_size = 128, epochs = 20, validation_data = (X_val, y_val))"
   ]
  },
  {
   "cell_type": "code",
   "execution_count": 15,
   "id": "d7c6e8ac",
   "metadata": {},
   "outputs": [],
   "source": [
    "y_prob = model.predict(X_test, verbose=0) \n",
    "preds = y_prob.argmax(axis=-1)"
   ]
  },
  {
   "cell_type": "code",
   "execution_count": 17,
   "id": "eaec05e9",
   "metadata": {},
   "outputs": [
    {
     "data": {
      "text/html": [
       "<div>\n",
       "<style scoped>\n",
       "    .dataframe tbody tr th:only-of-type {\n",
       "        vertical-align: middle;\n",
       "    }\n",
       "\n",
       "    .dataframe tbody tr th {\n",
       "        vertical-align: top;\n",
       "    }\n",
       "\n",
       "    .dataframe thead th {\n",
       "        text-align: right;\n",
       "    }\n",
       "</style>\n",
       "<table border=\"1\" class=\"dataframe\">\n",
       "  <thead>\n",
       "    <tr style=\"text-align: right;\">\n",
       "      <th></th>\n",
       "      <th>index</th>\n",
       "      <th>label</th>\n",
       "    </tr>\n",
       "  </thead>\n",
       "  <tbody>\n",
       "    <tr>\n",
       "      <th>0</th>\n",
       "      <td>0</td>\n",
       "      <td>0</td>\n",
       "    </tr>\n",
       "    <tr>\n",
       "      <th>1</th>\n",
       "      <td>1</td>\n",
       "      <td>0</td>\n",
       "    </tr>\n",
       "    <tr>\n",
       "      <th>2</th>\n",
       "      <td>2</td>\n",
       "      <td>0</td>\n",
       "    </tr>\n",
       "    <tr>\n",
       "      <th>3</th>\n",
       "      <td>3</td>\n",
       "      <td>0</td>\n",
       "    </tr>\n",
       "    <tr>\n",
       "      <th>4</th>\n",
       "      <td>4</td>\n",
       "      <td>0</td>\n",
       "    </tr>\n",
       "    <tr>\n",
       "      <th>...</th>\n",
       "      <td>...</td>\n",
       "      <td>...</td>\n",
       "    </tr>\n",
       "    <tr>\n",
       "      <th>9995</th>\n",
       "      <td>9995</td>\n",
       "      <td>0</td>\n",
       "    </tr>\n",
       "    <tr>\n",
       "      <th>9996</th>\n",
       "      <td>9996</td>\n",
       "      <td>0</td>\n",
       "    </tr>\n",
       "    <tr>\n",
       "      <th>9997</th>\n",
       "      <td>9997</td>\n",
       "      <td>0</td>\n",
       "    </tr>\n",
       "    <tr>\n",
       "      <th>9998</th>\n",
       "      <td>9998</td>\n",
       "      <td>0</td>\n",
       "    </tr>\n",
       "    <tr>\n",
       "      <th>9999</th>\n",
       "      <td>9999</td>\n",
       "      <td>0</td>\n",
       "    </tr>\n",
       "  </tbody>\n",
       "</table>\n",
       "<p>10000 rows × 2 columns</p>\n",
       "</div>"
      ],
      "text/plain": [
       "      index  label\n",
       "0         0      0\n",
       "1         1      0\n",
       "2         2      0\n",
       "3         3      0\n",
       "4         4      0\n",
       "...     ...    ...\n",
       "9995   9995      0\n",
       "9996   9996      0\n",
       "9997   9997      0\n",
       "9998   9998      0\n",
       "9999   9999      0\n",
       "\n",
       "[10000 rows x 2 columns]"
      ]
     },
     "execution_count": 17,
     "metadata": {},
     "output_type": "execute_result"
    }
   ],
   "source": [
    "submission = pd.read_csv('sample_submission.csv')\n",
    "submission"
   ]
  },
  {
   "cell_type": "code",
   "execution_count": 20,
   "id": "6723bf3a",
   "metadata": {},
   "outputs": [],
   "source": [
    "submission['label'] = preds\n",
    "submission.to_csv('Practice.csv', index = False)"
   ]
  },
  {
   "cell_type": "code",
   "execution_count": null,
   "id": "a47fff24",
   "metadata": {},
   "outputs": [],
   "source": []
  }
 ],
 "metadata": {
  "kernelspec": {
   "display_name": "Python 3",
   "language": "python",
   "name": "python3"
  },
  "language_info": {
   "codemirror_mode": {
    "name": "ipython",
    "version": 3
   },
   "file_extension": ".py",
   "mimetype": "text/x-python",
   "name": "python",
   "nbconvert_exporter": "python",
   "pygments_lexer": "ipython3",
   "version": "3.8.8"
  },
  "toc": {
   "base_numbering": 1,
   "nav_menu": {},
   "number_sections": true,
   "sideBar": true,
   "skip_h1_title": false,
   "title_cell": "Table of Contents",
   "title_sidebar": "Contents",
   "toc_cell": false,
   "toc_position": {},
   "toc_section_display": true,
   "toc_window_display": false
  }
 },
 "nbformat": 4,
 "nbformat_minor": 5
}
